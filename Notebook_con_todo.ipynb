{
 "cells": [
  {
   "cell_type": "code",
   "execution_count": null,
   "metadata": {},
   "outputs": [],
   "source": [
    "!pip install transformers\n",
    "!pip install gensim\n",
    "!pip install nltk"
   ]
  },
  {
   "cell_type": "code",
   "execution_count": null,
   "metadata": {
    "colab": {
     "base_uri": "https://localhost:8080/"
    },
    "id": "x2Ww2FYBSV1U",
    "outputId": "a45014dd-b26b-4869-e26b-014c0f78ffed"
   },
   "outputs": [],
   "source": [
    "# imports\n",
    "from transformers import pipeline\n",
    "from gensim import corpora\n",
    "from gensim.models import LdaModel\n",
    "from nltk.corpus import stopwords\n",
    "from nltk.stem import WordNetLemmatizer\n",
    "import nltk\n",
    "import re\n",
    "import unicodedata\n",
    "\n",
    "# descargar datos para la lda\n",
    "nltk.download(\"stopwords\")\n",
    "nltk.download(\"wordnet\")"
   ]
  },
  {
   "cell_type": "code",
   "execution_count": null,
   "metadata": {
    "id": "eBk4n7ZRSn_S"
   },
   "outputs": [],
   "source": [
    "# fragmentador de chat\n",
    "def fragmentar_chat_cualquiera(chat):\n",
    "    \"\"\"\n",
    "    dado un chat de Telegram o Whatsapp del celular guarda cada mensaje en una lista\n",
    "\n",
    "    se agrega la flag \"caso_normal\" para los casos que no son cubiertos por\n",
    "    los patrones de abajo (Telegram o Whatsapp celular)\n",
    "\n",
    "    \"\"\"\n",
    "    whatsapp_phone_pattern = r\"\\[(\\d{1,2}/\\d{1,2} \\d{2}:\\d{2})\\] (\\w+): (.+)\"\n",
    "\n",
    "    whatsapp_import_pattern = r\"(\\d{1,2}/\\d{1,2}/\\d{4}, \\d{1,2}:\\d{1,2}) - (\\w+): (.+)\"\n",
    "\n",
    "    # patron de mensajes en telegram, regex ♥\n",
    "    telegram_pattern = (\n",
    "        r\"([A-Za-z\\s]+), \\[\\d{1,2}/\\d{1,2}/\\d{2} \\d{1,2}:\\d{2}\\s?[APM]{2}\\]\\n(.+?)\\n\"\n",
    "    )\n",
    "\n",
    "    matches_wasap = re.findall(whatsapp_phone_pattern, chat)\n",
    "    matches_telegram = re.findall(telegram_pattern, chat, re.DOTALL)\n",
    "    matches_import = re.findall(whatsapp_import_pattern, chat)\n",
    "\n",
    "    telegram_list = [\n",
    "        f\"{name.strip()}: {content.strip()}\" for name, content in matches_telegram\n",
    "    ]\n",
    "\n",
    "    whatsapp_list = [\n",
    "        f\"{name.strip()}: {content.strip()}\" for fecha, name, content in matches_wasap\n",
    "    ]\n",
    "\n",
    "    whatsapp_import_list = [\n",
    "        f\"{name.strip()}: {content.strip()}\" for fecha, name, content in matches_import\n",
    "    ]\n",
    "\n",
    "    caso_normal = True\n",
    "    message_list = telegram_list + whatsapp_list + whatsapp_import_list\n",
    "\n",
    "    # esto sucede si ninguno tiene hace match, entonces es otro formato\n",
    "    # por ahora se asume que este formato viene sin fechas\n",
    "    if message_list == []:\n",
    "        message_list = chat.split(\"\\n\")\n",
    "        caso_normal = False\n",
    "        # message_list = list(filter(lambda x: x != \"\", message_list))\n",
    "\n",
    "    return message_list, caso_normal\n"
   ]
  },
  {
   "cell_type": "code",
   "execution_count": null,
   "metadata": {
    "id": "qAjqKrZRSvRS"
   },
   "outputs": [],
   "source": [
    "\n",
    "\n",
    "def normalizar_texto(texto):\n",
    "    \"\"\"\n",
    "    quita tildes y lo pasa a miniscula\n",
    "    \"\"\"\n",
    "    # Normalizamos el texto para separar las letras acentuadas\n",
    "    texto_normalizado = unicodedata.normalize(\"NFD\", texto)\n",
    "\n",
    "    # Filtramos las letras acentuadas (que tienen una \"combinación\" de caracteres como la tilde)\n",
    "    # y las transformamos a su versión sin tilde.\n",
    "    texto_sin_tildes = \"\".join(\n",
    "        [c for c in texto_normalizado if unicodedata.category(c) != \"Mn\"]\n",
    "    )\n",
    "\n",
    "    # Devolvemos el texto sin tildes\n",
    "    texto_minus = re.sub(r\"[,\\.!?]\", \"\", texto_sin_tildes.lower())\n",
    "    return texto_minus\n",
    "\n",
    "\n",
    "def model_lda(lista_mensajes, caso_normal, num_topics=6):\n",
    "    \"\"\"\n",
    "    CAMBIO\n",
    "    Paso una lista de mensajes de la forma [AUTOR: CONTENIDO]\n",
    "    y devuelvo el modelito lda\n",
    "\n",
    "    la lda se va a quedar solo con el contenido, ignorando al atuor\n",
    "    se asume que no traen fecha\n",
    "    \"\"\"\n",
    "    # limpiamos las stop swords\n",
    "    stop_words = set(stopwords.words(\"spanish\"))\n",
    "    lemmatizer = WordNetLemmatizer()\n",
    "\n",
    "    # procesamiento\n",
    "    texts = []\n",
    "    for msj in lista_mensajes:\n",
    "        # Extraer solo el contenido del mensaje\n",
    "        contenido = msj\n",
    "        # si es un caso normal, entonces matchea, sacando el autor\n",
    "        # sino, el contenido es el mensaje\n",
    "        if caso_normal:\n",
    "            match = re.search(\n",
    "                r\"^.*?:\\s*(.+)\", msj\n",
    "            )  # Buscar el contenido después del nombre del autor\n",
    "            if match:\n",
    "                contenido = match.group(1)\n",
    "            else:\n",
    "                contenido = \"\"\n",
    "\n",
    "        # filtro la puntuación y los paso a minuscula\n",
    "        # contenido_sin_tilde = normalizar_texto(contenido)\n",
    "        # contenido_sin_puntuacion = re.sub(r\"[,\\.!?]\", \"\", contenido_sin_tilde.lower())\n",
    "        contenido_normalizado = normalizar_texto(contenido)\n",
    "        texts.append(\n",
    "            [\n",
    "                lemmatizer.lemmatize(palabra)\n",
    "                for palabra in re.findall(r\"\\b\\w+\\b\", contenido_normalizado)\n",
    "                if palabra not in stop_words and len(palabra) > 2\n",
    "            ]\n",
    "        )\n",
    "\n",
    "        # diccionario\n",
    "        dictionary = corpora.Dictionary(texts)\n",
    "        corpus = [dictionary.doc2bow(text) for text in texts]\n",
    "\n",
    "        # entrenar\n",
    "        lda_model = LdaModel(\n",
    "            corpus, num_topics=num_topics, id2word=dictionary, passes=15\n",
    "        )\n",
    "\n",
    "        # rta_lda = {\n",
    "        #     \"lda_model\": lda_model,\n",
    "        #     \"corpus\": corpus,\n",
    "        #     \"dictionary\": dictionary,\n",
    "        #     \"topics\": lda_model.print_topics(),\n",
    "        # }\n",
    "        # rta_lda = lda_model\n",
    "    return lda_model\n",
    "\n",
    "\n",
    "def message_list_per_topic(topics_list, message_list):\n",
    "    \"\"\"\n",
    "    dado la lista de temas (topics_list) de la forma\n",
    "    [(n_tema [('tema', porcentaje)]), ... ]\n",
    "    y la lista de mensajes\n",
    "    devuele una lista de la forma\n",
    "    [(n_tema, [lista de temas relevantes (para testing)] , [lista de mensajes relevantes al tema]), ....]\n",
    "    \"\"\"\n",
    "    final_list = []\n",
    "    for n_tema, lista_temas in topics_list:\n",
    "        # ordenamos por relevancia la lista de temas para quedarnos con\n",
    "        # el 70%? mas relevante\n",
    "        lista_temas.sort(key=lambda x: x[1], reverse=True)\n",
    "        suma_porcentaje = 0.0\n",
    "        temas_relevantes = []\n",
    "\n",
    "        for tema, porcentaje in lista_temas:\n",
    "            # si agarré el top x%  ya la corto\n",
    "            if suma_porcentaje >= 0.5:\n",
    "                break\n",
    "            suma_porcentaje += porcentaje\n",
    "\n",
    "            # me voy quedando con los temas mas relevantes\n",
    "            temas_relevantes.append(tema)\n",
    "\n",
    "        # una vez que salí del bucle (i.e. tengo los temas relevantes)\n",
    "        # hago una lista de mensajes filtrada\n",
    "        mensajes_relevantes = [\n",
    "            msj\n",
    "            for msj in message_list\n",
    "            if any(tema in normalizar_texto(msj) for tema in temas_relevantes)\n",
    "        ]\n",
    "        final_list.append((n_tema, temas_relevantes, mensajes_relevantes))\n",
    "\n",
    "    return final_list\n",
    "\n",
    "\n",
    "def chat_to_filtered_per_topic(chat):\n",
    "    \"\"\"\n",
    "    esta funcion se encarga de ir llamando todo proceduralmente\n",
    "    deberia ser la unica llamada desde afuera\n",
    "\n",
    "    # chat: string del chat\n",
    "    #     ya se asume que se parseo el path o el copia_pega\n",
    "\n",
    "    \"\"\"\n",
    "\n",
    "    lista_mensajes, caso_normal = fragmentar_chat_cualquiera(chat)\n",
    "\n",
    "    # no se cuantos topics deberia ser lo ideal\n",
    "    lda_model = model_lda(lista_mensajes, caso_normal, num_topics=6)\n",
    "    topics = lda_model.show_topics(formatted=False)\n",
    "    lista_filtrada = message_list_per_topic(topics, lista_mensajes)\n",
    "    return lista_filtrada\n"
   ]
  },
  {
   "cell_type": "code",
   "execution_count": null,
   "metadata": {
    "id": "J4GXjVz-3ZMM"
   },
   "outputs": [],
   "source": [
    "chat = \"\"\"\n",
    "Tomas Martinez, [10/17/24 12:03 AM]\n",
    "Habria que utilizar tecnicas no supervisadas\n",
    "\n",
    "Tomas Martinez, [10/17/24 12:05 AM]\n",
    "exactamente como el colab que estaba en el notion\n",
    "\n",
    "Tomas Martinez, [10/17/24 12:05 AM]\n",
    "ahi estuve viendo\n",
    "\n",
    "Gaston Bonfils, [10/17/24 12:33 AM]\n",
    "God\n",
    "\n",
    "Gaston Bonfils, [10/17/24 12:33 AM]\n",
    "Yo toy saliendo del fulbo\n",
    "\n",
    "Gaston Bonfils, [10/17/24 12:34 AM]\n",
    "Me atajaron el único tiro al arco 😔\n",
    "\n",
    "Tomas Martinez, [10/17/24 12:40 AM]\n",
    "no me la contes\n",
    "\n",
    "Tomas Martinez, [10/17/24 12:40 AM]\n",
    "ganaron??\n",
    "\n",
    "Gaston Bonfils, [10/17/24 12:44 AM]\n",
    "Perdimos depe\n",
    "\n",
    "Gaston Bonfils, [10/17/24 12:44 AM]\n",
    "Pero buen partido\n",
    "\n",
    "Tomas Martinez, [10/17/24 12:46 AM]\n",
    "Buenisimo\n",
    "\"\"\""
   ]
  },
  {
   "cell_type": "code",
   "execution_count": null,
   "metadata": {
    "id": "1BWHJmrDbLoS"
   },
   "outputs": [],
   "source": []
  },
  {
   "cell_type": "code",
   "execution_count": null,
   "metadata": {
    "id": "HipquOSq3hYb"
   },
   "outputs": [],
   "source": [
    "# RESUMIR CON MODELO PEQUEÑO\n",
    "\n",
    "def summarize_chat(chat):\n",
    "    \"\"\"\n",
    "    resume un chat nomas\n",
    "    \"\"\"\n",
    "    summarizer = pipeline(\n",
    "        \"summarization\",\n",
    "        model=\"kabita-choudhary/finetuned-bart-for-conversation-summary\",\n",
    "    )\n",
    "    summary = summarizer(chat[:1024], max_length=1024, min_length=30, do_sample=False)\n",
    "    return summary\n",
    "\n",
    "\n",
    "def summarize_per_topic(chat):\n",
    "    \"\"\"\n",
    "    resumen por tema encontrado\n",
    "    \"\"\"\n",
    "    summary_list = []\n",
    "    topic_list = chat_to_filtered_per_topic(chat)\n",
    "    for n_topic, topics, message_list in topic_list:\n",
    "        joined_messages = \"\\n\".join(message_list)\n",
    "        summary = summarize_chat(joined_messages)\n",
    "\n",
    "        # print(f\"Resumen de tema {n_topic}:\\n {summary}\\n===\\n\")\n",
    "\n",
    "        summary_list.append((n_topic, topics, summary, joined_messages))\n",
    "\n",
    "    return summary_list\n",
    "\n",
    "\n",
    "def pretty_print_summary_list(summary_list, show_messages=False):\n",
    "    \"\"\"\n",
    "    imprime de manera lejible la lista de resumenes\n",
    "    \"\"\"\n",
    "    text = \"\"\n",
    "    for n_tema, temas, resumen, messages in summary_list:\n",
    "        text += f\"\"\"\n",
    "=============\n",
    "Tema #{n_tema}\n",
    "Temas relevantes = {temas}\n",
    "Resumen:\n",
    "{resumen}\n",
    "\n",
    "\"\"\"\n",
    "        if show_messages:\n",
    "          text += messages\n",
    "        text += \"\\n=============\\n\"\n",
    "    print(text)\n"
   ]
  },
  {
   "cell_type": "code",
   "execution_count": null,
   "metadata": {
    "colab": {
     "base_uri": "https://localhost:8080/"
    },
    "id": "HQvD8o7c3orB",
    "outputId": "115535af-86da-4934-bbfe-abffc52df33a"
   },
   "outputs": [],
   "source": [
    "summary = summarize_chat(chat)\n",
    "\n",
    "summaries = summarize_per_topic(chat)\n",
    "\n",
    "print(summary)\n",
    "\n",
    "pretty_print_summary_list(summaries, show_messages=True)"
   ]
  },
  {
   "cell_type": "code",
   "execution_count": null,
   "metadata": {},
   "outputs": [],
   "source": []
  },
  {
   "cell_type": "code",
   "execution_count": null,
   "metadata": {},
   "outputs": [],
   "source": [
    "# SEPARADOS"
   ]
  },
  {
   "cell_type": "code",
   "execution_count": 133,
   "metadata": {},
   "outputs": [],
   "source": [
    "def summarize_with_flan(chat):\n",
    "\n",
    "    summarizer = pipeline(\"summarization\", \"jordiclive/flan-t5-3b-summarizer\", torch_dtype=torch.bfloat16, device =\"cuda\")\n",
    "    \n",
    "    # raw_document = 'You must be 18 years old to live or work in New York State...'\n",
    "    raw_document = chat\n",
    "    prompt = \"Briefly summarize in third person the following conversation:\"\n",
    "    results = summarizer(\n",
    "            f\"{prompt} {raw_document}\",\n",
    "            num_beams=5,\n",
    "            min_length=5,\n",
    "            no_repeat_ngram_size=3,\n",
    "            truncation=True,\n",
    "            max_length=512,\n",
    "            \n",
    "        )\n",
    "    return results"
   ]
  },
  {
   "cell_type": "code",
   "execution_count": 134,
   "metadata": {},
   "outputs": [
    {
     "name": "stderr",
     "output_type": "stream",
     "text": [
      "Your max_length is set to 512, but your input_length is only 299. Since this is a summarization task, where outputs shorter than the input are typically wanted, you might consider decreasing max_length manually, e.g. summarizer('...', max_length=149)\n"
     ]
    },
    {
     "name": "stdout",
     "output_type": "stream",
     "text": [
      "[{'summary_text': 'Tomas Martinez, Gaston Bonfils and Yo toy saliendo del fulbo.'}]\n"
     ]
    }
   ],
   "source": [
    "print(summarize_with_flan(chat))"
   ]
  },
  {
   "cell_type": "code",
   "execution_count": 135,
   "metadata": {},
   "outputs": [],
   "source": [
    "def summarize_per_topic_flan(chat):\n",
    "    \"\"\"\n",
    "    resumen por tema encontrado\n",
    "    \"\"\"\n",
    "    summary_list = []\n",
    "    topic_list = chat_to_filtered_per_topic(chat)\n",
    "    for n_topic, topics, message_list in topic_list:\n",
    "        joined_messages = \"\\n\".join(message_list)\n",
    "        summary = summarize_with_flan(joined_messages)\n",
    "\n",
    "        # print(f\"Resumen de tema {n_topic}:\\n {summary}\\n===\\n\")\n",
    "\n",
    "        summary_list.append((n_topic, topics, summary, joined_messages))\n",
    "\n",
    "    return summary_list"
   ]
  },
  {
   "cell_type": "code",
   "execution_count": 136,
   "metadata": {},
   "outputs": [
    {
     "name": "stderr",
     "output_type": "stream",
     "text": [
      "Your max_length is set to 512, but your input_length is only 89. Since this is a summarization task, where outputs shorter than the input are typically wanted, you might consider decreasing max_length manually, e.g. summarizer('...', max_length=44)\n",
      "Your max_length is set to 512, but your input_length is only 52. Since this is a summarization task, where outputs shorter than the input are typically wanted, you might consider decreasing max_length manually, e.g. summarizer('...', max_length=26)\n",
      "Your max_length is set to 512, but your input_length is only 45. Since this is a summarization task, where outputs shorter than the input are typically wanted, you might consider decreasing max_length manually, e.g. summarizer('...', max_length=22)\n",
      "Your max_length is set to 512, but your input_length is only 50. Since this is a summarization task, where outputs shorter than the input are typically wanted, you might consider decreasing max_length manually, e.g. summarizer('...', max_length=25)\n",
      "Your max_length is set to 512, but your input_length is only 89. Since this is a summarization task, where outputs shorter than the input are typically wanted, you might consider decreasing max_length manually, e.g. summarizer('...', max_length=44)\n",
      "Your max_length is set to 512, but your input_length is only 41. Since this is a summarization task, where outputs shorter than the input are typically wanted, you might consider decreasing max_length manually, e.g. summarizer('...', max_length=20)\n"
     ]
    },
    {
     "name": "stdout",
     "output_type": "stream",
     "text": [
      "\n",
      "=============\n",
      "Tema #0\n",
      "Temas relevantes = ['buenisimo', 'god', 'contes', 'ganaron', 'perdimos', 'viendo', 'ahi', 'partido', 'buen', 'depe']\n",
      "Resumen:\n",
      "[{'summary_text': 'Tomas Martinez and Gaston Bonfils are having a good time.'}]\n",
      "\n",
      "Tomas Martinez: ahi estuve viendo\n",
      "Gaston Bonfils: God\n",
      "Tomas Martinez: no me la contes\n",
      "Tomas Martinez: ganaron??\n",
      "Gaston Bonfils: Perdimos depe\n",
      "Gaston Bonfils: Pero buen partido\n",
      "Tomas Martinez: Buenisimo\n",
      "=============\n",
      "\n",
      "=============\n",
      "Tema #1\n",
      "Temas relevantes = ['colab', 'notion', 'exactamente', 'viendo', 'ahi']\n",
      "Resumen:\n",
      "[{'summary_text': 'Tomas Martinez is talking about the colab that was in the notion.'}]\n",
      "\n",
      "Tomas Martinez: exactamente como el colab que estaba en el notion\n",
      "Tomas Martinez: ahi estuve viendo\n",
      "=============\n",
      "\n",
      "=============\n",
      "Tema #2\n",
      "Temas relevantes = ['habria', 'tecnicas', 'utilizar', 'supervisadas', 'partido']\n",
      "Resumen:\n",
      "[{'summary_text': 'Tomas Martinez and Gaston Bonfils are talking about a game.'}]\n",
      "\n",
      "Tomas Martinez: Habria que utilizar tecnicas no supervisadas\n",
      "Gaston Bonfils: Pero buen partido\n",
      "=============\n",
      "\n",
      "=============\n",
      "Tema #3\n",
      "Temas relevantes = ['arco', 'atajaron', 'unico', 'tiro', 'depe']\n",
      "Resumen:\n",
      "[{'summary_text': 'Gaston Bonfils atajaron el nico tiro al arco.'}]\n",
      "\n",
      "Gaston Bonfils: Me atajaron el único tiro al arco 😔\n",
      "Gaston Bonfils: Perdimos depe\n",
      "=============\n",
      "\n",
      "=============\n",
      "Tema #4\n",
      "Temas relevantes = ['ganaron', 'contes', 'buenisimo', 'god', 'perdimos', 'buen', 'viendo']\n",
      "Resumen:\n",
      "[{'summary_text': 'Tomas Martinez and Gaston Bonfils are having a good time.'}]\n",
      "\n",
      "Tomas Martinez: ahi estuve viendo\n",
      "Gaston Bonfils: God\n",
      "Tomas Martinez: no me la contes\n",
      "Tomas Martinez: ganaron??\n",
      "Gaston Bonfils: Perdimos depe\n",
      "Gaston Bonfils: Pero buen partido\n",
      "Tomas Martinez: Buenisimo\n",
      "=============\n",
      "\n",
      "=============\n",
      "Tema #5\n",
      "Temas relevantes = ['fulbo', 'toy', 'saliendo', 'buenisimo']\n",
      "Resumen:\n",
      "[{'summary_text': 'Gaston Bonfils and Tomas Martinez are going to the fulbo.'}]\n",
      "\n",
      "Gaston Bonfils: Yo toy saliendo del fulbo\n",
      "Tomas Martinez: Buenisimo\n",
      "=============\n",
      "\n"
     ]
    }
   ],
   "source": [
    "listitia = summarize_per_topic_flan(chat)\n",
    "pretty_print_summary_list(listitia, show_messages=True)"
   ]
  },
  {
   "cell_type": "code",
   "execution_count": null,
   "metadata": {},
   "outputs": [],
   "source": []
  },
  {
   "cell_type": "code",
   "execution_count": 137,
   "metadata": {},
   "outputs": [],
   "source": [
    "import os\n",
    "\n",
    "def pretty_string_summary_list(summary_list, show_messages=False):\n",
    "    \"\"\"\n",
    "    imprime de manera lejible la lista de resumenes\n",
    "    \"\"\"\n",
    "    text = \"\"\n",
    "    for n_tema, temas, resumen, messages in summary_list:\n",
    "        text += f\"\"\"\n",
    "=============\n",
    "Tema #{n_tema}\n",
    "Temas relevantes = {temas}\n",
    "Resumen:\n",
    "{resumen}\n",
    "\n",
    "\"\"\"\n",
    "        if show_messages:\n",
    "            text += messages\n",
    "        text += \"\\n=============\\n\"\n",
    "    return text\n",
    "\n",
    "def process_file(file_path):\n",
    "    \"\"\"\n",
    "    caso que se pasa un archivo\n",
    "    \"\"\"\n",
    "    content = \"\"\n",
    "    try:\n",
    "        with open(file_path) as file:\n",
    "            content = file.read()\n",
    "    except:\n",
    "        print(\"El archivo no se encontró\")\n",
    "        # exit(1)\n",
    "        content = None\n",
    "    return content\n",
    "\n",
    "\n",
    "def test_particular(archivo):\n",
    "    \"\"\"\n",
    "    dado el nombre del archivo (no la ruta), corre\n",
    "    - resumir todo junto\n",
    "    - resumir por tema\n",
    "    y los escribe a un archivo\n",
    "    \"\"\"\n",
    "    chat = process_file(os.path.join(\"ejemplos\", archivo))\n",
    "\n",
    "    resumen_crudo = summarize_with_flan(chat)\n",
    "    print(resumen_crudo)\n",
    "\n",
    "    lista_resumenes = summarize_per_topic_flan(chat)\n",
    "\n",
    "    with open(\n",
    "        os.path.join(\"ejemplos_resultados\", f\"res_{archivo}\"), \"w+\"\n",
    "    ) as output_file:\n",
    "        final_text = \"\"\n",
    "        final_text += \"Resumen Crudo:\\n\"\n",
    "        final_text += str(resumen_crudo) + \"\\n\\n\"\n",
    "        final_text += \"Resumenes por Tema:\\n\"\n",
    "        resuemens_por_tema = pretty_string_summary_list(\n",
    "            lista_resumenes, show_messages=True\n",
    "        )\n",
    "        final_text += resuemens_por_tema\n",
    "        output_file.write(final_text)\n",
    "\n",
    "\n",
    "def full_tests():\n",
    "    for archivo in os.listdir(\"ejemplos\"):\n",
    "        if archivo.endswith(\".txt\"):\n",
    "            test_particular(archivo)\n"
   ]
  },
  {
   "cell_type": "code",
   "execution_count": null,
   "metadata": {},
   "outputs": [
    {
     "name": "stderr",
     "output_type": "stream",
     "text": [
      "Your max_length is set to 512, but your input_length is only 385. Since this is a summarization task, where outputs shorter than the input are typically wanted, you might consider decreasing max_length manually, e.g. summarizer('...', max_length=192)\n"
     ]
    },
    {
     "name": "stdout",
     "output_type": "stream",
     "text": [
      "[{'summary_text': 'Mica, Gaston Bonfils, Benjamin Lozano and Gonzalo Canavesio are having a conversation.'}]\n"
     ]
    },
    {
     "name": "stderr",
     "output_type": "stream",
     "text": [
      "Your max_length is set to 512, but your input_length is only 82. Since this is a summarization task, where outputs shorter than the input are typically wanted, you might consider decreasing max_length manually, e.g. summarizer('...', max_length=41)\n",
      "Your max_length is set to 512, but your input_length is only 139. Since this is a summarization task, where outputs shorter than the input are typically wanted, you might consider decreasing max_length manually, e.g. summarizer('...', max_length=69)\n",
      "Your max_length is set to 512, but your input_length is only 67. Since this is a summarization task, where outputs shorter than the input are typically wanted, you might consider decreasing max_length manually, e.g. summarizer('...', max_length=33)\n",
      "Your max_length is set to 512, but your input_length is only 62. Since this is a summarization task, where outputs shorter than the input are typically wanted, you might consider decreasing max_length manually, e.g. summarizer('...', max_length=31)\n",
      "Your max_length is set to 512, but your input_length is only 52. Since this is a summarization task, where outputs shorter than the input are typically wanted, you might consider decreasing max_length manually, e.g. summarizer('...', max_length=26)\n",
      "Your max_length is set to 512, but your input_length is only 139. Since this is a summarization task, where outputs shorter than the input are typically wanted, you might consider decreasing max_length manually, e.g. summarizer('...', max_length=69)\n",
      "Your max_length is set to 512, but your input_length is only 298. Since this is a summarization task, where outputs shorter than the input are typically wanted, you might consider decreasing max_length manually, e.g. summarizer('...', max_length=149)\n"
     ]
    },
    {
     "name": "stdout",
     "output_type": "stream",
     "text": [
      "[{'summary_text': 'Tomas Martinez, Gaston Bonfils and Yo toy saliendo del fulbo.'}]\n"
     ]
    },
    {
     "name": "stderr",
     "output_type": "stream",
     "text": [
      "Your max_length is set to 512, but your input_length is only 57. Since this is a summarization task, where outputs shorter than the input are typically wanted, you might consider decreasing max_length manually, e.g. summarizer('...', max_length=28)\n",
      "Your max_length is set to 512, but your input_length is only 80. Since this is a summarization task, where outputs shorter than the input are typically wanted, you might consider decreasing max_length manually, e.g. summarizer('...', max_length=40)\n",
      "Your max_length is set to 512, but your input_length is only 104. Since this is a summarization task, where outputs shorter than the input are typically wanted, you might consider decreasing max_length manually, e.g. summarizer('...', max_length=52)\n",
      "Your max_length is set to 512, but your input_length is only 104. Since this is a summarization task, where outputs shorter than the input are typically wanted, you might consider decreasing max_length manually, e.g. summarizer('...', max_length=52)\n",
      "Your max_length is set to 512, but your input_length is only 50. Since this is a summarization task, where outputs shorter than the input are typically wanted, you might consider decreasing max_length manually, e.g. summarizer('...', max_length=25)\n",
      "Your max_length is set to 512, but your input_length is only 44. Since this is a summarization task, where outputs shorter than the input are typically wanted, you might consider decreasing max_length manually, e.g. summarizer('...', max_length=22)\n"
     ]
    },
    {
     "name": "stdout",
     "output_type": "stream",
     "text": [
      "[{'summary_text': 'Gaston Bonfils and Gonzalo Canavesio are having a conversation.'}]\n"
     ]
    },
    {
     "name": "stderr",
     "output_type": "stream",
     "text": [
      "Your max_length is set to 512, but your input_length is only 113. Since this is a summarization task, where outputs shorter than the input are typically wanted, you might consider decreasing max_length manually, e.g. summarizer('...', max_length=56)\n",
      "Your max_length is set to 512, but your input_length is only 144. Since this is a summarization task, where outputs shorter than the input are typically wanted, you might consider decreasing max_length manually, e.g. summarizer('...', max_length=72)\n",
      "Your max_length is set to 512, but your input_length is only 171. Since this is a summarization task, where outputs shorter than the input are typically wanted, you might consider decreasing max_length manually, e.g. summarizer('...', max_length=85)\n",
      "Your max_length is set to 512, but your input_length is only 169. Since this is a summarization task, where outputs shorter than the input are typically wanted, you might consider decreasing max_length manually, e.g. summarizer('...', max_length=84)\n",
      "Your max_length is set to 512, but your input_length is only 122. Since this is a summarization task, where outputs shorter than the input are typically wanted, you might consider decreasing max_length manually, e.g. summarizer('...', max_length=61)\n",
      "Your max_length is set to 512, but your input_length is only 235. Since this is a summarization task, where outputs shorter than the input are typically wanted, you might consider decreasing max_length manually, e.g. summarizer('...', max_length=117)\n"
     ]
    },
    {
     "name": "stdout",
     "output_type": "stream",
     "text": [
      "[{'summary_text': 'Gaston Bonfils and Tomas Martinez are having a conversation.'}]\n"
     ]
    },
    {
     "name": "stderr",
     "output_type": "stream",
     "text": [
      "Your max_length is set to 512, but your input_length is only 483. Since this is a summarization task, where outputs shorter than the input are typically wanted, you might consider decreasing max_length manually, e.g. summarizer('...', max_length=241)\n",
      "Your max_length is set to 512, but your input_length is only 347. Since this is a summarization task, where outputs shorter than the input are typically wanted, you might consider decreasing max_length manually, e.g. summarizer('...', max_length=173)\n",
      "Your max_length is set to 512, but your input_length is only 421. Since this is a summarization task, where outputs shorter than the input are typically wanted, you might consider decreasing max_length manually, e.g. summarizer('...', max_length=210)\n",
      "Your max_length is set to 512, but your input_length is only 291. Since this is a summarization task, where outputs shorter than the input are typically wanted, you might consider decreasing max_length manually, e.g. summarizer('...', max_length=145)\n",
      "Your max_length is set to 512, but your input_length is only 219. Since this is a summarization task, where outputs shorter than the input are typically wanted, you might consider decreasing max_length manually, e.g. summarizer('...', max_length=109)\n",
      "Your max_length is set to 512, but your input_length is only 396. Since this is a summarization task, where outputs shorter than the input are typically wanted, you might consider decreasing max_length manually, e.g. summarizer('...', max_length=198)\n"
     ]
    },
    {
     "name": "stdout",
     "output_type": "stream",
     "text": [
      "[{'summary_text': \"Benjamin Lozano and Gaston Bonfils are having a chat about Benjamin's resume. Benjamin finds Gaston's bicho jijoante and finds it relevant.\"}]\n"
     ]
    },
    {
     "name": "stderr",
     "output_type": "stream",
     "text": [
      "Your max_length is set to 512, but your input_length is only 107. Since this is a summarization task, where outputs shorter than the input are typically wanted, you might consider decreasing max_length manually, e.g. summarizer('...', max_length=53)\n",
      "Your max_length is set to 512, but your input_length is only 73. Since this is a summarization task, where outputs shorter than the input are typically wanted, you might consider decreasing max_length manually, e.g. summarizer('...', max_length=36)\n",
      "Your max_length is set to 512, but your input_length is only 138. Since this is a summarization task, where outputs shorter than the input are typically wanted, you might consider decreasing max_length manually, e.g. summarizer('...', max_length=69)\n",
      "Your max_length is set to 512, but your input_length is only 83. Since this is a summarization task, where outputs shorter than the input are typically wanted, you might consider decreasing max_length manually, e.g. summarizer('...', max_length=41)\n",
      "Your max_length is set to 512, but your input_length is only 107. Since this is a summarization task, where outputs shorter than the input are typically wanted, you might consider decreasing max_length manually, e.g. summarizer('...', max_length=53)\n",
      "Your max_length is set to 512, but your input_length is only 81. Since this is a summarization task, where outputs shorter than the input are typically wanted, you might consider decreasing max_length manually, e.g. summarizer('...', max_length=40)\n",
      "Your max_length is set to 512, but your input_length is only 290. Since this is a summarization task, where outputs shorter than the input are typically wanted, you might consider decreasing max_length manually, e.g. summarizer('...', max_length=145)\n"
     ]
    },
    {
     "name": "stdout",
     "output_type": "stream",
     "text": [
      "[{'summary_text': 'Tomi, Mendo and Tomi are meeting in a restaurant. They are going to buy some food.'}]\n"
     ]
    },
    {
     "name": "stderr",
     "output_type": "stream",
     "text": [
      "Your max_length is set to 512, but your input_length is only 66. Since this is a summarization task, where outputs shorter than the input are typically wanted, you might consider decreasing max_length manually, e.g. summarizer('...', max_length=33)\n",
      "Your max_length is set to 512, but your input_length is only 157. Since this is a summarization task, where outputs shorter than the input are typically wanted, you might consider decreasing max_length manually, e.g. summarizer('...', max_length=78)\n",
      "Your max_length is set to 512, but your input_length is only 117. Since this is a summarization task, where outputs shorter than the input are typically wanted, you might consider decreasing max_length manually, e.g. summarizer('...', max_length=58)\n",
      "Your max_length is set to 512, but your input_length is only 162. Since this is a summarization task, where outputs shorter than the input are typically wanted, you might consider decreasing max_length manually, e.g. summarizer('...', max_length=81)\n",
      "Your max_length is set to 512, but your input_length is only 77. Since this is a summarization task, where outputs shorter than the input are typically wanted, you might consider decreasing max_length manually, e.g. summarizer('...', max_length=38)\n",
      "Your max_length is set to 512, but your input_length is only 50. Since this is a summarization task, where outputs shorter than the input are typically wanted, you might consider decreasing max_length manually, e.g. summarizer('...', max_length=25)\n",
      "Your max_length is set to 512, but your input_length is only 410. Since this is a summarization task, where outputs shorter than the input are typically wanted, you might consider decreasing max_length manually, e.g. summarizer('...', max_length=205)\n"
     ]
    },
    {
     "name": "stdout",
     "output_type": "stream",
     "text": [
      "[{'summary_text': 'Gaston Bonfils, [7/2/24 5:41 PM] acabo de ver un post que explica las matematicas del monopoly usando CADENAS DE MARKOV Gaston bonfils. Gonzalo Canavesio paga redirecciona a un post de reddit en el reddito de un video de youtube.'}]\n"
     ]
    },
    {
     "name": "stderr",
     "output_type": "stream",
     "text": [
      "Your max_length is set to 512, but your input_length is only 192. Since this is a summarization task, where outputs shorter than the input are typically wanted, you might consider decreasing max_length manually, e.g. summarizer('...', max_length=96)\n",
      "Your max_length is set to 512, but your input_length is only 138. Since this is a summarization task, where outputs shorter than the input are typically wanted, you might consider decreasing max_length manually, e.g. summarizer('...', max_length=69)\n",
      "Your max_length is set to 512, but your input_length is only 108. Since this is a summarization task, where outputs shorter than the input are typically wanted, you might consider decreasing max_length manually, e.g. summarizer('...', max_length=54)\n",
      "Your max_length is set to 512, but your input_length is only 91. Since this is a summarization task, where outputs shorter than the input are typically wanted, you might consider decreasing max_length manually, e.g. summarizer('...', max_length=45)\n",
      "Your max_length is set to 512, but your input_length is only 100. Since this is a summarization task, where outputs shorter than the input are typically wanted, you might consider decreasing max_length manually, e.g. summarizer('...', max_length=50)\n"
     ]
    }
   ],
   "source": [
    "full_tests()"
   ]
  },
  {
   "cell_type": "code",
   "execution_count": null,
   "metadata": {},
   "outputs": [],
   "source": []
  }
 ],
 "metadata": {
  "colab": {
   "provenance": []
  },
  "kernelspec": {
   "display_name": "Python 3 (ipykernel)",
   "language": "python",
   "name": "python3"
  },
  "language_info": {
   "codemirror_mode": {
    "name": "ipython",
    "version": 3
   },
   "file_extension": ".py",
   "mimetype": "text/x-python",
   "name": "python",
   "nbconvert_exporter": "python",
   "pygments_lexer": "ipython3",
   "version": "3.12.7"
  }
 },
 "nbformat": 4,
 "nbformat_minor": 4
}
